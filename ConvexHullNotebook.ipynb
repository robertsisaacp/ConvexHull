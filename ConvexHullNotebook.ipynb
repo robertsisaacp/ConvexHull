{
 "cells": [
  {
   "cell_type": "code",
   "execution_count": 2,
   "metadata": {},
   "outputs": [],
   "source": [
    "import numpy as np\n",
    "import matplotlib.pyplot as plt\n",
    "\n",
    "%matplotlib inline"
   ]
  },
  {
   "cell_type": "code",
   "execution_count": 3,
   "metadata": {
    "collapsed": true
   },
   "outputs": [],
   "source": [
    "#utilities\n",
    "\n",
    "def to_np_array(filename: str):\n",
    "    with open(filename, 'rt') as f:\n",
    "        tempPoints = []\n",
    "        for lineNumber, line in enumerate(f):\n",
    "            if lineNumber != 0:\n",
    "                x, y = line.split()\n",
    "                tempPoints.append((float(x), float(y)))\n",
    "    return np.array(sorted(tempPoints))"
   ]
  },
  {
   "cell_type": "code",
   "execution_count": 5,
   "metadata": {},
   "outputs": [
    {
     "name": "stdout",
     "output_type": "stream",
     "text": [
      "<class 'numpy.ndarray'>\n"
     ]
    },
    {
     "data": {
      "text/plain": [
       "array([[ 0.,  0.],\n",
       "       [ 1.,  0.],\n",
       "       [ 1.,  4.],\n",
       "       [ 3.,  4.],\n",
       "       [ 3.,  9.],\n",
       "       [ 4.,  1.],\n",
       "       [ 4.,  5.],\n",
       "       [ 5.,  2.],\n",
       "       [ 7.,  1.],\n",
       "       [ 7.,  8.]])"
      ]
     },
     "execution_count": 5,
     "metadata": {},
     "output_type": "execute_result"
    }
   ],
   "source": [
    "arr = to_np_array('input.txt')\n",
    "print(type(arr))\n",
    "arr"
   ]
  },
  {
   "cell_type": "code",
   "execution_count": null,
   "metadata": {
    "collapsed": true
   },
   "outputs": [],
   "source": []
  }
 ],
 "metadata": {
  "kernelspec": {
   "display_name": "Python 3",
   "language": "python",
   "name": "python3"
  },
  "language_info": {
   "codemirror_mode": {
    "name": "ipython",
    "version": 3
   },
   "file_extension": ".py",
   "mimetype": "text/x-python",
   "name": "python",
   "nbconvert_exporter": "python",
   "pygments_lexer": "ipython3",
   "version": "3.6.2"
  }
 },
 "nbformat": 4,
 "nbformat_minor": 2
}
